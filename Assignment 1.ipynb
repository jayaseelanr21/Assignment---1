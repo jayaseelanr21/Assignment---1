{
 "cells": [
  {
   "cell_type": "markdown",
   "id": "f9b90b36",
   "metadata": {},
   "source": [
    "##### Write a Python program to count the number of even and odd numbers from a series of numbers."
   ]
  },
  {
   "cell_type": "code",
   "execution_count": 1,
   "id": "0df8c4de",
   "metadata": {},
   "outputs": [
    {
     "name": "stdout",
     "output_type": "stream",
     "text": [
      "Enter the number of even num: 4\n",
      "Enter the number of odd num: 5\n"
     ]
    }
   ],
   "source": [
    "num = (1,2,3,4,5,6,7,8,9)\n",
    "odd = 0\n",
    "even = 0\n",
    "for i in range(1,10):\n",
    "    if i%2 ==0:\n",
    "        even+=1\n",
    "    else:\n",
    "        odd+=1\n",
    "print('Enter the number of even num:',even)\n",
    "print('Enter the number of odd num:',odd)"
   ]
  },
  {
   "cell_type": "markdown",
   "id": "1230ba6c",
   "metadata": {},
   "source": [
    "##### Write a Python program that accepts a word from the user and reverse it.\n",
    "\n"
   ]
  },
  {
   "cell_type": "code",
   "execution_count": 2,
   "id": "e29b26be",
   "metadata": {},
   "outputs": [
    {
     "name": "stdout",
     "output_type": "stream",
     "text": [
      "Enter the name:Edyoda\n",
      "adoydE\n"
     ]
    }
   ],
   "source": [
    "name = input('Enter the name:')\n",
    "print(name[::-1])\n",
    "    "
   ]
  },
  {
   "cell_type": "markdown",
   "id": "be0a6b86",
   "metadata": {},
   "source": [
    "##### Write a Python program to get the Fibonacci series between 0 to 50\n",
    "\n"
   ]
  },
  {
   "cell_type": "code",
   "execution_count": 3,
   "id": "4ca2c835",
   "metadata": {},
   "outputs": [
    {
     "name": "stdout",
     "output_type": "stream",
     "text": [
      "Enter the number:50\n",
      "0 1 1 2 3 5 8 13 21 34 "
     ]
    }
   ],
   "source": [
    "a = 0\n",
    "b = 1\n",
    "c = 0\n",
    "d = int(input('Enter the number:'))\n",
    "while c<=d:\n",
    "    print(c,end=' ')\n",
    "    a = b\n",
    "    b = c\n",
    "    c = a+b\n"
   ]
  },
  {
   "cell_type": "code",
   "execution_count": null,
   "id": "f767045f",
   "metadata": {},
   "outputs": [],
   "source": []
  },
  {
   "cell_type": "code",
   "execution_count": null,
   "id": "e5ff93a5",
   "metadata": {},
   "outputs": [],
   "source": []
  },
  {
   "cell_type": "code",
   "execution_count": null,
   "id": "62cd4709",
   "metadata": {},
   "outputs": [],
   "source": []
  }
 ],
 "metadata": {
  "kernelspec": {
   "display_name": "Python 3 (ipykernel)",
   "language": "python",
   "name": "python3"
  },
  "language_info": {
   "codemirror_mode": {
    "name": "ipython",
    "version": 3
   },
   "file_extension": ".py",
   "mimetype": "text/x-python",
   "name": "python",
   "nbconvert_exporter": "python",
   "pygments_lexer": "ipython3",
   "version": "3.10.1"
  }
 },
 "nbformat": 4,
 "nbformat_minor": 5
}
